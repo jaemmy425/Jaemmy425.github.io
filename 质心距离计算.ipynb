{
  "nbformat": 4,
  "nbformat_minor": 0,
  "metadata": {
    "colab": {
      "provenance": [],
      "authorship_tag": "ABX9TyPh8DKVvCMUwlwkwQmUypiJ",
      "include_colab_link": true
    },
    "kernelspec": {
      "name": "python3",
      "display_name": "Python 3"
    },
    "language_info": {
      "name": "python"
    }
  },
  "cells": [
    {
      "cell_type": "markdown",
      "metadata": {
        "id": "view-in-github",
        "colab_type": "text"
      },
      "source": [
        "<a href=\"https://colab.research.google.com/github/jaemmy425/Jaemmy425.github.io/blob/main/%E8%B4%A8%E5%BF%83%E8%B7%9D%E7%A6%BB%E8%AE%A1%E7%AE%97.ipynb\" target=\"_parent\"><img src=\"https://colab.research.google.com/assets/colab-badge.svg\" alt=\"Open In Colab\"/></a>"
      ]
    },
    {
      "cell_type": "code",
      "source": [
        "import os\n",
        "import math\n",
        "import pandas as pd\n",
        "import numpy as np"
      ],
      "metadata": {
        "id": "LXPGGIwlE405"
      },
      "execution_count": 25,
      "outputs": []
    },
    {
      "cell_type": "code",
      "source": [
        "# 用户文件路径\n",
        "file_a = r\"/content/OS_CB_centroid.xls\"\n",
        "file_b = r\"/content/OSM_CB_centroid.xls\"\n",
        "def read_centroids(path):\n",
        "    if not os.path.exists(path):\n",
        "        raise FileNotFoundError(f\"找不到文件: {path}\")\n",
        "    try:\n",
        "        df = pd.read_excel(path)\n",
        "    except Exception as e:\n",
        "        # 提示常见读取问题\n",
        "        raise RuntimeError(f\"读取 Excel 文件失败: {path}\\n错误: {e}\")\n",
        "    return df\n",
        "\n",
        "\n",
        "df_a = read_centroids(file_a)\n",
        "df_b = read_centroids(file_b)"
      ],
      "metadata": {
        "id": "4dqE2RbJE4yi"
      },
      "execution_count": 26,
      "outputs": []
    },
    {
      "cell_type": "code",
      "source": [
        "# 标准化列名，方便后续处理（保留原始列名的副本）\n",
        "for df in (df_a, df_b):\n",
        "    df.columns = [c.strip() if isinstance(c, str) else c for c in df.columns]\n",
        "\n",
        "# 确保必要列存在\n",
        "required_cols = ['LSOA21NM', 'XCoord', 'YCoord']\n",
        "for name, df in [('OS', df_a), ('OSM', df_b)]:\n",
        "    missing = [c for c in required_cols if c not in df.columns]\n",
        "    if missing:\n",
        "        raise KeyError(f\"文件 {name} 缺少必要列: {missing}\")\n",
        "\n",
        "# 规范 LSOA21NM 字段用于合并（小写并去空白）\n",
        "df_a['_LSOA21NM_key'] = df_a['LSOA21NM'].astype(str).str.strip().str.lower()\n",
        "df_b['_LSOA21NM_key'] = df_b['LSOA21NM'].astype(str).str.strip().str.lower()\n",
        "\n",
        "# 确保 XCoord/YCoord 为数值，不能为 NaN\n",
        "for df, name in [(df_a, 'OS'), (df_b, 'OSM')]:\n",
        "    df['XCoord_num'] = pd.to_numeric(df['XCoord'], errors='coerce')\n",
        "    df['YCoord_num'] = pd.to_numeric(df['YCoord'], errors='coerce')\n",
        "    n_missing = df['XCoord_num'].isna().sum() + df['YCoord_num'].isna().sum()\n",
        "    if n_missing>0:\n",
        "        print(f\"警告: 文件 {name} 存在 {n_missing} 个 X/Y 无法解析为数值（将导致这些行被标记为无法计算距离）\")"
      ],
      "metadata": {
        "id": "wb3Gt5ZiFK19"
      },
      "execution_count": 27,
      "outputs": []
    },
    {
      "cell_type": "code",
      "source": [
        "# 确保 XCoord/YCoord 为数值，不能为 NaN\n",
        "for df, name in [(df_a, 'OS'), (df_b, 'OSM')]:\n",
        "    df['XCoord_num'] = pd.to_numeric(df['XCoord'], errors='coerce')\n",
        "    df['YCoord_num'] = pd.to_numeric(df['YCoord'], errors='coerce')\n",
        "    n_missing = df['XCoord_num'].isna().sum() + df['YCoord_num'].isna().sum()\n",
        "    if n_missing>0:\n",
        "        print(f\"警告: 文件 {name} 存在 {n_missing} 个 X/Y 无法解析为数值（将导致这些行被标记为无法计算距离）\")"
      ],
      "metadata": {
        "id": "eGJgXS57jAhG"
      },
      "execution_count": 28,
      "outputs": []
    },
    {
      "cell_type": "code",
      "source": [
        "# 按 LSOA21NM 合并（内连接以得到两表都有的 LSOA21NM）\n",
        "merged = pd.merge(df_a, df_b, on='_LSOA21NM_key', how='outer', suffixes=('_OS','_OSM'), indicator=True)\n",
        "\n",
        "# 计算距离（如果任一坐标缺失，结果为 NaN）\n",
        "\n",
        "def compute_distance(row):\n",
        "    x1 = row.get('XCoord_num_OS')\n",
        "    y1 = row.get('YCoord_num_OS')\n",
        "    x2 = row.get('XCoord_num_OSM')\n",
        "    y2 = row.get('YCoord_num_OSM')\n",
        "    if pd.isna(x1) or pd.isna(y1) or pd.isna(x2) or pd.isna(y2):\n",
        "        return np.nan\n",
        "    dx = float(x2) - float(x1)\n",
        "    dy = float(y2) - float(y1)\n",
        "    return math.hypot(dx, dy)  # 投影坐标系下的欧氏距离（米）\n",
        "\n",
        "# 为了计算方便，先把 numeric 列重命名到合并表中\n",
        "merged = merged.rename(columns={\n",
        "    'XCoord_num_OS': 'XCoord_num_OS',\n",
        "    'YCoord_num_OS': 'YCoord_num_OS',\n",
        "    'XCoord_num_OSM': 'XCoord_num_OSM',\n",
        "    'YCoord_num_OSM': 'YCoord_num_OSM'\n",
        "})\n",
        "\n",
        "# 如果合并后 numeric 列名不是上面的形式，尝试从原始列推导\n",
        "for col in ['XCoord_num_OS','YCoord_num_OS','XCoord_num_OSM','YCoord_num_OSM']:\n",
        "    if col not in merged.columns:\n",
        "        # 尝试找类似的列\n",
        "        possibles = [c for c in merged.columns if c.lower().startswith(col.split('_')[0].lower())]\n",
        "        # 不做强制，留给后续计算尝试\n",
        "\n",
        "# 先尝试把原始 numeric 列合并进来（在 merge 时 pandas 已把列名后缀合并）\n",
        "if 'XCoord_num_OS' not in merged.columns and 'XCoord_num' in df_a.columns:\n",
        "    merged['XCoord_num_OS'] = merged['XCoord_num']\n",
        "if 'YCoord_num_OS' not in merged.columns and 'YCoord_num' in df_a.columns:\n",
        "    merged['YCoord_num_OS'] = merged['YCoord_num']\n",
        "if 'XCoord_num_OSM' not in merged.columns and 'XCoord_num' in df_b.columns:\n",
        "    # 合并后会把两个相同名的列变成 XCoord_num_x / XCoord_num_y，尝试处理这些情况\n",
        "    if 'XCoord_num_x' in merged.columns:\n",
        "        merged['XCoord_num_OS'] = merged['XCoord_num_x']\n",
        "    if 'XCoord_num_y' in merged.columns:\n",
        "        merged['XCoord_num_OSM'] = merged['XCoord_num_y']\n",
        "    if 'YCoord_num_x' in merged.columns:\n",
        "        merged['YCoord_num_OS'] = merged['YCoord_num_x']\n",
        "    if 'YCoord_num_y' in merged.columns:\n",
        "        merged['YCoord_num_OSM'] = merged['YCoord_num_y']\n",
        "\n",
        "# 通用方式：如果列没有按预期命名，尝试根据后缀寻找\n",
        "for base in ['XCoord_num','YCoord_num']:\n",
        "    if base + '_OS' not in merged.columns:\n",
        "        for c in merged.columns:\n",
        "            if c.lower().startswith(base.lower()) and c.endswith('_x'):\n",
        "                merged[base + '_OS'] = merged[c]\n",
        "    if base + '_OSM' not in merged.columns:\n",
        "        for c in merged.columns:\n",
        "            if c.lower().startswith(base.lower()) and c.endswith('_y'):\n",
        "                merged[base + '_OSM'] = merged[c]\n",
        "\n",
        "# 现在计算距离\n",
        "merged['distance_m'] = merged.apply(compute_distance, axis=1)\n",
        "\n",
        "# 统计匹配情况\n",
        "n_total = len(merged)\n",
        "ngood = merged['distance_m'].notna().sum()\n",
        "only_a = (merged['_merge']=='left_only').sum()\n",
        "only_b = (merged['_merge']=='right_only').sum()\n",
        "print(f\"总 LSOA21NM 数: {n_total}, 双表都有的数量(可计算距离): {ngood}, 仅在 OS: {only_a}, 仅在 OSM: {only_b}\")\n",
        "\n",
        "# 保存输出\n",
        "out_path = r\"CB_Centroid_distances.xlsx\"\n",
        "try:\n",
        "    merged.to_excel(out_path, index=False)\n",
        "    print(f\"已保存结果到: {out_path}\")\n",
        "except Exception as e:\n",
        "    print(f\"保存文件失败: {e}\")\n",
        "\n",
        "# 如果需要，只显示前几行\n",
        "print(merged[['LSOA21NM_OS','LSOA21NM_OSM','_LSOA21NM_key','XCoord_num_OS','YCoord_num_OS','XCoord_num_OSM','YCoord_num_OSM','distance_m']].head(10))"
      ],
      "metadata": {
        "colab": {
          "base_uri": "https://localhost:8080/"
        },
        "id": "bLu3mSWwjF_n",
        "outputId": "539af4ff-4517-4f6d-a5c7-befe0dc0247b"
      },
      "execution_count": 29,
      "outputs": [
        {
          "output_type": "stream",
          "name": "stdout",
          "text": [
            "总 LSOA21NM 数: 84, 双表都有的数量(可计算距离): 80, 仅在 OS: 4, 仅在 OSM: 0\n",
            "已保存结果到: CB_Centroid_distances.xlsx\n",
            "      LSOA21NM_OS    LSOA21NM_OSM   _LSOA21NM_key  XCoord_num_OS  \\\n",
            "0  Cambridge 001A  Cambridge 001A  cambridge 001a  545734.852973   \n",
            "1  Cambridge 001B  Cambridge 001B  cambridge 001b  546416.221757   \n",
            "2  Cambridge 001C  Cambridge 001C  cambridge 001c  546095.331571   \n",
            "3  Cambridge 001D  Cambridge 001D  cambridge 001d  545309.258388   \n",
            "4  Cambridge 001E  Cambridge 001E  cambridge 001e  545282.181703   \n",
            "5  Cambridge 001F  Cambridge 001F  cambridge 001f  545873.470435   \n",
            "6  Cambridge 002A  Cambridge 002A  cambridge 002a  544471.477858   \n",
            "7  Cambridge 002B  Cambridge 002B  cambridge 002b  544666.600077   \n",
            "8  Cambridge 002C  Cambridge 002C  cambridge 002c  544442.786019   \n",
            "9  Cambridge 002D  Cambridge 002D  cambridge 002d  544883.085171   \n",
            "\n",
            "   YCoord_num_OS  XCoord_num_OSM  YCoord_num_OSM  distance_m  \n",
            "0  261160.755378     545786.7500   261109.703125   72.798585  \n",
            "1  261015.620416     546403.9375   261011.234375   13.043785  \n",
            "2  260980.527433     546092.1875   260939.703125   40.945199  \n",
            "3  261057.545674     545322.3125   261050.546875   14.811922  \n",
            "4  261487.950259     545282.0625   261472.687500   15.263224  \n",
            "5  261533.025348     545798.3750   261571.812500   84.520811  \n",
            "6  259793.767692     544481.3125   259801.875000   12.745533  \n",
            "7  259432.252278     544687.1875   259415.125000   26.780322  \n",
            "8  260838.019560     544387.0000   260866.312500   62.550542  \n",
            "9  260893.287446     544858.4375   260907.156250   28.281644  \n"
          ]
        }
      ]
    }
  ]
}